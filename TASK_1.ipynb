{
 "cells": [
  {
   "cell_type": "code",
   "execution_count": 1,
   "id": "1524d277",
   "metadata": {
    "_kg_hide-input": true,
    "execution": {
     "iopub.execute_input": "2021-11-29T13:50:24.240758Z",
     "iopub.status.busy": "2021-11-29T13:50:24.239966Z",
     "iopub.status.idle": "2021-11-29T13:50:24.243586Z",
     "shell.execute_reply": "2021-11-29T13:50:24.243082Z",
     "shell.execute_reply.started": "2021-11-29T13:48:54.348106Z"
    },
    "id": "1524d277",
    "papermill": {
     "duration": 0.036026,
     "end_time": "2021-11-29T13:50:24.243716",
     "exception": false,
     "start_time": "2021-11-29T13:50:24.207690",
     "status": "completed"
    },
    "tags": []
   },
   "outputs": [],
   "source": [
    "import warnings\n",
    "warnings.filterwarnings('ignore')"
   ]
  },
  {
   "cell_type": "code",
   "execution_count": 2,
   "id": "d23f81d1",
   "metadata": {
    "execution": {
     "iopub.execute_input": "2021-11-29T13:50:24.293474Z",
     "iopub.status.busy": "2021-11-29T13:50:24.292628Z",
     "iopub.status.idle": "2021-11-29T13:50:24.294413Z",
     "shell.execute_reply": "2021-11-29T13:50:24.294872Z",
     "shell.execute_reply.started": "2021-11-29T13:48:54.354754Z"
    },
    "id": "d23f81d1",
    "papermill": {
     "duration": 0.028698,
     "end_time": "2021-11-29T13:50:24.294994",
     "exception": false,
     "start_time": "2021-11-29T13:50:24.266296",
     "status": "completed"
    },
    "tags": []
   },
   "outputs": [],
   "source": [
    "# Importing required libraries\n",
    "import pandas as pd\n",
    "import numpy as np\n",
    "import matplotlib.pyplot as plt"
   ]
  },
  {
   "cell_type": "code",
   "execution_count": 3,
   "id": "c453fc1b",
   "metadata": {
    "colab": {
     "base_uri": "https://localhost:8080/",
     "height": 73
    },
    "execution": {
     "iopub.execute_input": "2021-11-29T13:50:24.344143Z",
     "iopub.status.busy": "2021-11-29T13:50:24.343467Z",
     "iopub.status.idle": "2021-11-29T13:50:24.391560Z",
     "shell.execute_reply": "2021-11-29T13:50:24.392000Z",
     "shell.execute_reply.started": "2021-11-29T13:48:54.366469Z"
    },
    "id": "c453fc1b",
    "outputId": "8a47580e-7338-4718-eb48-dfd6f22a8e4a",
    "papermill": {
     "duration": 0.074661,
     "end_time": "2021-11-29T13:50:24.392144",
     "exception": false,
     "start_time": "2021-11-29T13:50:24.317483",
     "status": "completed"
    },
    "tags": []
   },
   "outputs": [
    {
     "ename": "ModuleNotFoundError",
     "evalue": "No module named 'google.colab'",
     "output_type": "error",
     "traceback": [
      "\u001b[1;31m---------------------------------------------------------------------------\u001b[0m",
      "\u001b[1;31mModuleNotFoundError\u001b[0m                       Traceback (most recent call last)",
      "\u001b[1;32m~\\AppData\\Local\\Temp/ipykernel_12620/264872163.py\u001b[0m in \u001b[0;36m<module>\u001b[1;34m\u001b[0m\n\u001b[1;32m----> 1\u001b[1;33m \u001b[1;32mfrom\u001b[0m \u001b[0mgoogle\u001b[0m\u001b[1;33m.\u001b[0m\u001b[0mcolab\u001b[0m \u001b[1;32mimport\u001b[0m \u001b[0mfiles\u001b[0m\u001b[1;33m\u001b[0m\u001b[1;33m\u001b[0m\u001b[0m\n\u001b[0m\u001b[0;32m      2\u001b[0m \u001b[0muploaded\u001b[0m \u001b[1;33m=\u001b[0m \u001b[0mfiles\u001b[0m\u001b[1;33m.\u001b[0m\u001b[0mupload\u001b[0m\u001b[1;33m(\u001b[0m\u001b[1;33m)\u001b[0m\u001b[1;33m\u001b[0m\u001b[1;33m\u001b[0m\u001b[0m\n",
      "\u001b[1;31mModuleNotFoundError\u001b[0m: No module named 'google.colab'"
     ]
    }
   ],
   "source": [
    "from google.colab import files\n",
    "uploaded = files.upload()\n"
   ]
  },
  {
   "cell_type": "code",
   "execution_count": 4,
   "id": "8JUA-pH0MNUX",
   "metadata": {
    "id": "8JUA-pH0MNUX"
   },
   "outputs": [
    {
     "ename": "NameError",
     "evalue": "name 'uploaded' is not defined",
     "output_type": "error",
     "traceback": [
      "\u001b[1;31m---------------------------------------------------------------------------\u001b[0m",
      "\u001b[1;31mNameError\u001b[0m                                 Traceback (most recent call last)",
      "\u001b[1;32m~\\AppData\\Local\\Temp/ipykernel_12620/2180251047.py\u001b[0m in \u001b[0;36m<module>\u001b[1;34m\u001b[0m\n\u001b[0;32m      1\u001b[0m \u001b[1;32mimport\u001b[0m \u001b[0mio\u001b[0m\u001b[1;33m\u001b[0m\u001b[1;33m\u001b[0m\u001b[0m\n\u001b[1;32m----> 2\u001b[1;33m \u001b[0mgoogle_stock_data\u001b[0m \u001b[1;33m=\u001b[0m \u001b[0mpd\u001b[0m\u001b[1;33m.\u001b[0m\u001b[0mread_csv\u001b[0m\u001b[1;33m(\u001b[0m\u001b[0mio\u001b[0m\u001b[1;33m.\u001b[0m\u001b[0mBytesIO\u001b[0m\u001b[1;33m(\u001b[0m\u001b[0muploaded\u001b[0m\u001b[1;33m[\u001b[0m\u001b[1;34m'GOOG.csv'\u001b[0m\u001b[1;33m]\u001b[0m\u001b[1;33m)\u001b[0m\u001b[1;33m)\u001b[0m\u001b[1;33m\u001b[0m\u001b[1;33m\u001b[0m\u001b[0m\n\u001b[0m",
      "\u001b[1;31mNameError\u001b[0m: name 'uploaded' is not defined"
     ]
    }
   ],
   "source": [
    "import io\n",
    "google_stock_data = pd.read_csv(io.BytesIO(uploaded['GOOG.csv']))\n"
   ]
  },
  {
   "cell_type": "code",
   "execution_count": 5,
   "id": "e9895bbf",
   "metadata": {
    "colab": {
     "base_uri": "https://localhost:8080/"
    },
    "execution": {
     "iopub.execute_input": "2021-11-29T13:50:24.446054Z",
     "iopub.status.busy": "2021-11-29T13:50:24.445242Z",
     "iopub.status.idle": "2021-11-29T13:50:24.462449Z",
     "shell.execute_reply": "2021-11-29T13:50:24.463027Z",
     "shell.execute_reply.started": "2021-11-29T13:48:54.399710Z"
    },
    "id": "e9895bbf",
    "outputId": "726a4c51-786c-4924-b659-2adc79db0d70",
    "papermill": {
     "duration": 0.047642,
     "end_time": "2021-11-29T13:50:24.463201",
     "exception": false,
     "start_time": "2021-11-29T13:50:24.415559",
     "status": "completed"
    },
    "tags": []
   },
   "outputs": [
    {
     "ename": "NameError",
     "evalue": "name 'google_stock_data' is not defined",
     "output_type": "error",
     "traceback": [
      "\u001b[1;31m---------------------------------------------------------------------------\u001b[0m",
      "\u001b[1;31mNameError\u001b[0m                                 Traceback (most recent call last)",
      "\u001b[1;32m~\\AppData\\Local\\Temp/ipykernel_12620/1530318219.py\u001b[0m in \u001b[0;36m<module>\u001b[1;34m\u001b[0m\n\u001b[1;32m----> 1\u001b[1;33m \u001b[0mgoogle_stock_data\u001b[0m\u001b[1;33m.\u001b[0m\u001b[0minfo\u001b[0m\u001b[1;33m(\u001b[0m\u001b[1;33m)\u001b[0m\u001b[1;33m\u001b[0m\u001b[1;33m\u001b[0m\u001b[0m\n\u001b[0m",
      "\u001b[1;31mNameError\u001b[0m: name 'google_stock_data' is not defined"
     ]
    }
   ],
   "source": [
    "google_stock_data.info()"
   ]
  },
  {
   "cell_type": "code",
   "execution_count": 6,
   "id": "967ae730",
   "metadata": {
    "colab": {
     "base_uri": "https://localhost:8080/",
     "height": 1612
    },
    "execution": {
     "iopub.execute_input": "2021-11-29T13:50:24.514533Z",
     "iopub.status.busy": "2021-11-29T13:50:24.513724Z",
     "iopub.status.idle": "2021-11-29T13:50:24.528901Z",
     "shell.execute_reply": "2021-11-29T13:50:24.528442Z",
     "shell.execute_reply.started": "2021-11-29T13:48:54.416152Z"
    },
    "id": "967ae730",
    "outputId": "c3670dd9-5e32-410d-d9ff-db595b98ed02",
    "papermill": {
     "duration": 0.040632,
     "end_time": "2021-11-29T13:50:24.529016",
     "exception": false,
     "start_time": "2021-11-29T13:50:24.488384",
     "status": "completed"
    },
    "tags": []
   },
   "outputs": [
    {
     "ename": "NameError",
     "evalue": "name 'google_stock_data' is not defined",
     "output_type": "error",
     "traceback": [
      "\u001b[1;31m---------------------------------------------------------------------------\u001b[0m",
      "\u001b[1;31mNameError\u001b[0m                                 Traceback (most recent call last)",
      "\u001b[1;32m~\\AppData\\Local\\Temp/ipykernel_12620/3743267080.py\u001b[0m in \u001b[0;36m<module>\u001b[1;34m\u001b[0m\n\u001b[1;32m----> 1\u001b[1;33m \u001b[0mgoogle_stock_data\u001b[0m \u001b[1;33m=\u001b[0m \u001b[0mgoogle_stock_data\u001b[0m\u001b[1;33m[\u001b[0m\u001b[1;33m[\u001b[0m\u001b[1;34m'date'\u001b[0m\u001b[1;33m,\u001b[0m\u001b[1;34m'open'\u001b[0m\u001b[1;33m,\u001b[0m\u001b[1;34m'close'\u001b[0m\u001b[1;33m]\u001b[0m\u001b[1;33m]\u001b[0m \u001b[1;31m# Extracting required columns\u001b[0m\u001b[1;33m\u001b[0m\u001b[1;33m\u001b[0m\u001b[0m\n\u001b[0m\u001b[0;32m      2\u001b[0m \u001b[0mgoogle_stock_data\u001b[0m\u001b[1;33m[\u001b[0m\u001b[1;34m'date'\u001b[0m\u001b[1;33m]\u001b[0m \u001b[1;33m=\u001b[0m \u001b[0mpd\u001b[0m\u001b[1;33m.\u001b[0m\u001b[0mto_datetime\u001b[0m\u001b[1;33m(\u001b[0m\u001b[0mgoogle_stock_data\u001b[0m\u001b[1;33m[\u001b[0m\u001b[1;34m'date'\u001b[0m\u001b[1;33m]\u001b[0m\u001b[1;33m.\u001b[0m\u001b[0mapply\u001b[0m\u001b[1;33m(\u001b[0m\u001b[1;32mlambda\u001b[0m \u001b[0mx\u001b[0m\u001b[1;33m:\u001b[0m \u001b[0mx\u001b[0m\u001b[1;33m.\u001b[0m\u001b[0msplit\u001b[0m\u001b[1;33m(\u001b[0m\u001b[1;33m)\u001b[0m\u001b[1;33m[\u001b[0m\u001b[1;36m0\u001b[0m\u001b[1;33m]\u001b[0m\u001b[1;33m)\u001b[0m\u001b[1;33m)\u001b[0m \u001b[1;31m# Selecting only date\u001b[0m\u001b[1;33m\u001b[0m\u001b[1;33m\u001b[0m\u001b[0m\n\u001b[0;32m      3\u001b[0m \u001b[0mgoogle_stock_data\u001b[0m\u001b[1;33m.\u001b[0m\u001b[0mset_index\u001b[0m\u001b[1;33m(\u001b[0m\u001b[1;34m'date'\u001b[0m\u001b[1;33m,\u001b[0m\u001b[0mdrop\u001b[0m\u001b[1;33m=\u001b[0m\u001b[1;32mTrue\u001b[0m\u001b[1;33m,\u001b[0m\u001b[0minplace\u001b[0m\u001b[1;33m=\u001b[0m\u001b[1;32mTrue\u001b[0m\u001b[1;33m)\u001b[0m \u001b[1;31m# Setting date column as index\u001b[0m\u001b[1;33m\u001b[0m\u001b[1;33m\u001b[0m\u001b[0m\n\u001b[0;32m      4\u001b[0m \u001b[0mgoogle_stock_data\u001b[0m\u001b[1;33m.\u001b[0m\u001b[0mhead\u001b[0m\u001b[1;33m(\u001b[0m\u001b[1;33m)\u001b[0m\u001b[1;33m\u001b[0m\u001b[1;33m\u001b[0m\u001b[0m\n",
      "\u001b[1;31mNameError\u001b[0m: name 'google_stock_data' is not defined"
     ]
    }
   ],
   "source": [
    "google_stock_data = google_stock_data[['date','open','close']] # Extracting required columns\n",
    "google_stock_data['date'] = pd.to_datetime(google_stock_data['date'].apply(lambda x: x.split()[0])) # Selecting only date\n",
    "google_stock_data.set_index('date',drop=True,inplace=True) # Setting date column as index\n",
    "google_stock_data.head()"
   ]
  },
  {
   "cell_type": "code",
   "execution_count": 7,
   "id": "ed6be72d",
   "metadata": {
    "_kg_hide-input": true,
    "colab": {
     "base_uri": "https://localhost:8080/",
     "height": 478
    },
    "execution": {
     "iopub.execute_input": "2021-11-29T13:50:24.595227Z",
     "iopub.status.busy": "2021-11-29T13:50:24.594412Z",
     "iopub.status.idle": "2021-11-29T13:50:25.002816Z",
     "shell.execute_reply": "2021-11-29T13:50:25.003266Z",
     "shell.execute_reply.started": "2021-11-29T13:48:54.433116Z"
    },
    "id": "ed6be72d",
    "outputId": "c1dcaca6-87ae-4baa-f7f6-7ebb428a9a05",
    "papermill": {
     "duration": 0.45005,
     "end_time": "2021-11-29T13:50:25.003414",
     "exception": false,
     "start_time": "2021-11-29T13:50:24.553364",
     "status": "completed"
    },
    "tags": []
   },
   "outputs": [
    {
     "ename": "NameError",
     "evalue": "name 'google_stock_data' is not defined",
     "output_type": "error",
     "traceback": [
      "\u001b[1;31m---------------------------------------------------------------------------\u001b[0m",
      "\u001b[1;31mNameError\u001b[0m                                 Traceback (most recent call last)",
      "\u001b[1;32m~\\AppData\\Local\\Temp/ipykernel_12620/52026741.py\u001b[0m in \u001b[0;36m<module>\u001b[1;34m\u001b[0m\n\u001b[0;32m      1\u001b[0m \u001b[0mfg\u001b[0m\u001b[1;33m,\u001b[0m \u001b[0max\u001b[0m \u001b[1;33m=\u001b[0m\u001b[0mplt\u001b[0m\u001b[1;33m.\u001b[0m\u001b[0msubplots\u001b[0m\u001b[1;33m(\u001b[0m\u001b[1;36m1\u001b[0m\u001b[1;33m,\u001b[0m\u001b[1;36m2\u001b[0m\u001b[1;33m,\u001b[0m\u001b[0mfigsize\u001b[0m\u001b[1;33m=\u001b[0m\u001b[1;33m(\u001b[0m\u001b[1;36m20\u001b[0m\u001b[1;33m,\u001b[0m\u001b[1;36m7\u001b[0m\u001b[1;33m)\u001b[0m\u001b[1;33m)\u001b[0m\u001b[1;33m\u001b[0m\u001b[1;33m\u001b[0m\u001b[0m\n\u001b[1;32m----> 2\u001b[1;33m \u001b[0max\u001b[0m\u001b[1;33m[\u001b[0m\u001b[1;36m0\u001b[0m\u001b[1;33m]\u001b[0m\u001b[1;33m.\u001b[0m\u001b[0mplot\u001b[0m\u001b[1;33m(\u001b[0m\u001b[0mgoogle_stock_data\u001b[0m\u001b[1;33m[\u001b[0m\u001b[1;34m'open'\u001b[0m\u001b[1;33m]\u001b[0m\u001b[1;33m,\u001b[0m\u001b[0mlabel\u001b[0m\u001b[1;33m=\u001b[0m\u001b[1;34m'Open'\u001b[0m\u001b[1;33m,\u001b[0m\u001b[0mcolor\u001b[0m\u001b[1;33m=\u001b[0m\u001b[1;34m'green'\u001b[0m\u001b[1;33m)\u001b[0m\u001b[1;33m\u001b[0m\u001b[1;33m\u001b[0m\u001b[0m\n\u001b[0m\u001b[0;32m      3\u001b[0m \u001b[0max\u001b[0m\u001b[1;33m[\u001b[0m\u001b[1;36m0\u001b[0m\u001b[1;33m]\u001b[0m\u001b[1;33m.\u001b[0m\u001b[0mset_xlabel\u001b[0m\u001b[1;33m(\u001b[0m\u001b[1;34m'Date'\u001b[0m\u001b[1;33m,\u001b[0m\u001b[0msize\u001b[0m\u001b[1;33m=\u001b[0m\u001b[1;36m15\u001b[0m\u001b[1;33m)\u001b[0m\u001b[1;33m\u001b[0m\u001b[1;33m\u001b[0m\u001b[0m\n\u001b[0;32m      4\u001b[0m \u001b[0max\u001b[0m\u001b[1;33m[\u001b[0m\u001b[1;36m0\u001b[0m\u001b[1;33m]\u001b[0m\u001b[1;33m.\u001b[0m\u001b[0mset_ylabel\u001b[0m\u001b[1;33m(\u001b[0m\u001b[1;34m'Price'\u001b[0m\u001b[1;33m,\u001b[0m\u001b[0msize\u001b[0m\u001b[1;33m=\u001b[0m\u001b[1;36m15\u001b[0m\u001b[1;33m)\u001b[0m\u001b[1;33m\u001b[0m\u001b[1;33m\u001b[0m\u001b[0m\n\u001b[0;32m      5\u001b[0m \u001b[0max\u001b[0m\u001b[1;33m[\u001b[0m\u001b[1;36m0\u001b[0m\u001b[1;33m]\u001b[0m\u001b[1;33m.\u001b[0m\u001b[0mlegend\u001b[0m\u001b[1;33m(\u001b[0m\u001b[1;33m)\u001b[0m\u001b[1;33m\u001b[0m\u001b[1;33m\u001b[0m\u001b[0m\n",
      "\u001b[1;31mNameError\u001b[0m: name 'google_stock_data' is not defined"
     ]
    },
    {
     "data": {
      "image/png": "[encoded data removed]",
      "text/plain": [
       "<Figure size 1440x504 with 2 Axes>"
      ]
     },
     "metadata": {
      "needs_background": "light"
     },
     "output_type": "display_data"
    }
   ],
   "source": [
    "fg, ax =plt.subplots(1,2,figsize=(20,7))\n",
    "ax[0].plot(google_stock_data['open'],label='Open',color='green')\n",
    "ax[0].set_xlabel('Date',size=15)\n",
    "ax[0].set_ylabel('Price',size=15)\n",
    "ax[0].legend()\n",
    "\n",
    "ax[1].plot(google_stock_data['close'],label='Close',color='red')\n",
    "ax[1].set_xlabel('Date',size=15)\n",
    "ax[1].set_ylabel('Price',size=15)\n",
    "ax[1].legend()\n",
    "\n",
    "fg.show()"
   ]
  },
  {
   "cell_type": "markdown",
   "id": "f5f7049a",
   "metadata": {
    "id": "f5f7049a",
    "papermill": {
     "duration": 0.025384,
     "end_time": "2021-11-29T13:50:25.054625",
     "exception": false,
     "start_time": "2021-11-29T13:50:25.029241",
     "status": "completed"
    },
    "tags": []
   },
   "source": [
    "# Data Pre-Processing"
   ]
  },
  {
   "cell_type": "code",
   "execution_count": 9,
   "id": "4049b119",
   "metadata": {
    "execution": {
     "iopub.execute_input": "2021-11-29T13:50:25.109737Z",
     "iopub.status.busy": "2021-11-29T13:50:25.109037Z",
     "iopub.status.idle": "2021-11-29T13:50:25.790067Z",
     "shell.execute_reply": "2021-11-29T13:50:25.789144Z",
     "shell.execute_reply.started": "2021-11-29T13:48:54.839900Z"
    },
    "id": "4049b119",
    "papermill": {
     "duration": 0.710426,
     "end_time": "2021-11-29T13:50:25.790212",
     "exception": false,
     "start_time": "2021-11-29T13:50:25.079786",
     "status": "completed"
    },
    "tags": []
   },
   "outputs": [],
   "source": [
    "from sklearn.preprocessing import MinMaxScaler\n",
    "MMS = MinMaxScaler()\n",
    "google_stock_data[google_stock_data.columns] = MMS.fit_transform(google_stock_data)"
   ]
  },
  {
   "cell_type": "code",
   "execution_count": 10,
   "id": "ff1cc5d7",
   "metadata": {
    "colab": {
     "base_uri": "https://localhost:8080/"
    },
    "execution": {
     "iopub.execute_input": "2021-11-29T13:50:25.846038Z",
     "iopub.status.busy": "2021-11-29T13:50:25.845174Z",
     "iopub.status.idle": "2021-11-29T13:50:25.848738Z",
     "shell.execute_reply": "2021-11-29T13:50:25.848236Z",
     "shell.execute_reply.started": "2021-11-29T13:48:54.851721Z"
    },
    "id": "ff1cc5d7",
    "outputId": "78ec3a39-c110-459c-ca71-dc8e88d6d0a1",
    "papermill": {
     "duration": 0.033285,
     "end_time": "2021-11-29T13:50:25.848868",
     "exception": false,
     "start_time": "2021-11-29T13:50:25.815583",
     "status": "completed"
    },
    "tags": []
   },
   "outputs": [
    {
     "data": {
      "text/plain": [
       "(1258, 2)"
      ]
     },
     "execution_count": 10,
     "metadata": {},
     "output_type": "execute_result"
    }
   ],
   "source": [
    "google_stock_data.shape"
   ]
  },
  {
   "cell_type": "code",
   "execution_count": 11,
   "id": "481642fe",
   "metadata": {
    "colab": {
     "base_uri": "https://localhost:8080/"
    },
    "execution": {
     "iopub.execute_input": "2021-11-29T13:50:25.904935Z",
     "iopub.status.busy": "2021-11-29T13:50:25.904184Z",
     "iopub.status.idle": "2021-11-29T13:50:25.907484Z",
     "shell.execute_reply": "2021-11-29T13:50:25.907086Z",
     "shell.execute_reply.started": "2021-11-29T13:48:54.860935Z"
    },
    "id": "481642fe",
    "outputId": "f024dc85-e2a5-42c1-fc49-0b5ee7f1d3ca",
    "papermill": {
     "duration": 0.033078,
     "end_time": "2021-11-29T13:50:25.907591",
     "exception": false,
     "start_time": "2021-11-29T13:50:25.874513",
     "status": "completed"
    },
    "tags": []
   },
   "outputs": [
    {
     "data": {
      "text/plain": [
       "1006"
      ]
     },
     "execution_count": 11,
     "metadata": {},
     "output_type": "execute_result"
    }
   ],
   "source": [
    "training_size = round(len(google_stock_data) * 0.80) # Selecting 80 % for training and 20 % for testing\n",
    "training_size"
   ]
  },
  {
   "cell_type": "code",
   "execution_count": 12,
   "id": "f2dda89b",
   "metadata": {
    "colab": {
     "base_uri": "https://localhost:8080/"
    },
    "execution": {
     "iopub.execute_input": "2021-11-29T13:50:25.971799Z",
     "iopub.status.busy": "2021-11-29T13:50:25.969611Z",
     "iopub.status.idle": "2021-11-29T13:50:25.974770Z",
     "shell.execute_reply": "2021-11-29T13:50:25.975457Z",
     "shell.execute_reply.started": "2021-11-29T13:48:54.870555Z"
    },
    "id": "f2dda89b",
    "outputId": "383ecfb5-3bda-4e6d-8e5c-57f643a163c4",
    "papermill": {
     "duration": 0.042465,
     "end_time": "2021-11-29T13:50:25.975637",
     "exception": false,
     "start_time": "2021-11-29T13:50:25.933172",
     "status": "completed"
    },
    "tags": []
   },
   "outputs": [
    {
     "data": {
      "text/plain": [
       "((1006, 2), (252, 2))"
      ]
     },
     "execution_count": 12,
     "metadata": {},
     "output_type": "execute_result"
    }
   ],
   "source": [
    "train_data = google_stock_data[:training_size]\n",
    "test_data  = google_stock_data[training_size:]\n",
    "\n",
    "train_data.shape, test_data.shape"
   ]
  },
  {
   "cell_type": "code",
   "execution_count": 13,
   "id": "a5200702",
   "metadata": {
    "execution": {
     "iopub.execute_input": "2021-11-29T13:50:26.059820Z",
     "iopub.status.busy": "2021-11-29T13:50:26.058940Z",
     "iopub.status.idle": "2021-11-29T13:50:26.060837Z",
     "shell.execute_reply": "2021-11-29T13:50:26.061233Z",
     "shell.execute_reply.started": "2021-11-29T13:48:54.885145Z"
    },
    "id": "a5200702",
    "papermill": {
     "duration": 0.040061,
     "end_time": "2021-11-29T13:50:26.061364",
     "exception": false,
     "start_time": "2021-11-29T13:50:26.021303",
     "status": "completed"
    },
    "tags": []
   },
   "outputs": [],
   "source": [
    "# Function to create sequence of data for training and testing\n",
    "\n",
    "def create_sequence(dataset):\n",
    "  sequences = []\n",
    "  labels = []\n",
    "\n",
    "  start_idx = 0\n",
    "\n",
    "  for stop_idx in range(50,len(dataset)): # Selecting 50 rows at a time\n",
    "    sequences.append(dataset.iloc[start_idx:stop_idx])\n",
    "    labels.append(dataset.iloc[stop_idx])\n",
    "    start_idx += 1\n",
    "  return (np.array(sequences),np.array(labels))\n"
   ]
  },
  {
   "cell_type": "code",
   "execution_count": 14,
   "id": "cfb20189",
   "metadata": {
    "execution": {
     "iopub.execute_input": "2021-11-29T13:50:26.238579Z",
     "iopub.status.busy": "2021-11-29T13:50:26.228592Z",
     "iopub.status.idle": "2021-11-29T13:50:26.474567Z",
     "shell.execute_reply": "2021-11-29T13:50:26.473990Z",
     "shell.execute_reply.started": "2021-11-29T13:48:54.894459Z"
    },
    "id": "cfb20189",
    "papermill": {
     "duration": 0.386764,
     "end_time": "2021-11-29T13:50:26.474713",
     "exception": false,
     "start_time": "2021-11-29T13:50:26.087949",
     "status": "completed"
    },
    "tags": []
   },
   "outputs": [],
   "source": [
    "train_seq, train_label = create_sequence(train_data)\n",
    "test_seq, test_label = create_sequence(test_data)"
   ]
  },
  {
   "cell_type": "code",
   "execution_count": 15,
   "id": "742e613e",
   "metadata": {
    "colab": {
     "base_uri": "https://localhost:8080/"
    },
    "execution": {
     "iopub.execute_input": "2021-11-29T13:50:26.539660Z",
     "iopub.status.busy": "2021-11-29T13:50:26.538729Z",
     "iopub.status.idle": "2021-11-29T13:50:26.541985Z",
     "shell.execute_reply": "2021-11-29T13:50:26.542452Z",
     "shell.execute_reply.started": "2021-11-29T13:48:55.089605Z"
    },
    "id": "742e613e",
    "outputId": "9da10a97-be46-4d92-a72a-4d5dc72d7fdc",
    "papermill": {
     "duration": 0.038202,
     "end_time": "2021-11-29T13:50:26.542583",
     "exception": false,
     "start_time": "2021-11-29T13:50:26.504381",
     "status": "completed"
    },
    "tags": []
   },
   "outputs": [
    {
     "data": {
      "text/plain": [
       "((956, 50, 2), (956, 2), (202, 50, 2), (202, 2))"
      ]
     },
     "execution_count": 15,
     "metadata": {},
     "output_type": "execute_result"
    }
   ],
   "source": [
    "train_seq.shape, train_label.shape, test_seq.shape, test_label.shape"
   ]
  },
  {
   "cell_type": "markdown",
   "id": "fe299b44",
   "metadata": {
    "id": "fe299b44",
    "papermill": {
     "duration": 0.029508,
     "end_time": "2021-11-29T13:50:26.601175",
     "exception": false,
     "start_time": "2021-11-29T13:50:26.571667",
     "status": "completed"
    },
    "tags": []
   },
   "source": [
    "# Creating LSTM model"
   ]
  },
  {
   "cell_type": "code",
   "execution_count": 16,
   "id": "89bfd1cc",
   "metadata": {
    "execution": {
     "iopub.execute_input": "2021-11-29T13:50:26.691126Z",
     "iopub.status.busy": "2021-11-29T13:50:26.689658Z",
     "iopub.status.idle": "2021-11-29T13:50:31.283100Z",
     "shell.execute_reply": "2021-11-29T13:50:31.282463Z",
     "shell.execute_reply.started": "2021-11-29T13:48:55.098122Z"
    },
    "id": "89bfd1cc",
    "papermill": {
     "duration": 4.650091,
     "end_time": "2021-11-29T13:50:31.283263",
     "exception": false,
     "start_time": "2021-11-29T13:50:26.633172",
     "status": "completed"
    },
    "tags": []
   },
   "outputs": [],
   "source": [
    "from keras.models import Sequential\n",
    "from keras.layers import Dense, Dropout, LSTM, Bidirectional"
   ]
  },
  {
   "cell_type": "code",
   "execution_count": 17,
   "id": "3c9ba91e",
   "metadata": {
    "colab": {
     "base_uri": "https://localhost:8080/"
    },
    "execution": {
     "iopub.execute_input": "2021-11-29T13:50:31.345243Z",
     "iopub.status.busy": "2021-11-29T13:50:31.344593Z",
     "iopub.status.idle": "2021-11-29T13:50:34.144339Z",
     "shell.execute_reply": "2021-11-29T13:50:34.144950Z",
     "shell.execute_reply.started": "2021-11-29T13:48:55.107419Z"
    },
    "id": "3c9ba91e",
    "outputId": "2ce01be6-52d3-47ee-94f1-3d4a949b7357",
    "papermill": {
     "duration": 2.834539,
     "end_time": "2021-11-29T13:50:34.145200",
     "exception": false,
     "start_time": "2021-11-29T13:50:31.310661",
     "status": "completed"
    },
    "tags": []
   },
   "outputs": [
    {
     "name": "stdout",
     "output_type": "stream",
     "text": [
      "Model: \"sequential\"\n",
      "_________________________________________________________________\n",
      " Layer (type)                Output Shape              Param #   \n",
      "=================================================================\n",
      " lstm (LSTM)                 (None, 50, 50)            10600     \n",
      "                                                                 \n",
      " dropout (Dropout)           (None, 50, 50)            0         \n",
      "                                                                 \n",
      " lstm_1 (LSTM)               (None, 50)                20200     \n",
      "                                                                 \n",
      " dense (Dense)               (None, 2)                 102       \n",
      "                                                                 \n",
      "=================================================================\n",
      "Total params: 30902 (120.71 KB)\n",
      "Trainable params: 30902 (120.71 KB)\n",
      "Non-trainable params: 0 (0.00 Byte)\n",
      "_________________________________________________________________\n"
     ]
    }
   ],
   "source": [
    "model = Sequential()\n",
    "model.add(LSTM(units=50, return_sequences=True, input_shape = (train_seq.shape[1], train_seq.shape[2])))\n",
    "\n",
    "model.add(Dropout(0.1))\n",
    "model.add(LSTM(units=50))\n",
    "\n",
    "model.add(Dense(2))\n",
    "\n",
    "model.compile(loss='mean_squared_error', optimizer='adam', metrics=['mean_absolute_error'])\n",
    "\n",
    "model.summary()"
   ]
  },
  {
   "cell_type": "code",
   "execution_count": 18,
   "id": "89bbd310",
   "metadata": {
    "_kg_hide-output": true,
    "colab": {
     "base_uri": "https://localhost:8080/"
    },
    "execution": {
     "iopub.execute_input": "2021-11-29T13:50:34.264567Z",
     "iopub.status.busy": "2021-11-29T13:50:34.259488Z",
     "iopub.status.idle": "2021-11-29T13:51:17.928289Z",
     "shell.execute_reply": "2021-11-29T13:51:17.928903Z",
     "shell.execute_reply.started": "2021-11-29T13:48:55.516580Z"
    },
    "id": "89bbd310",
    "outputId": "ea1603d7-e9ed-4314-8154-d54360edc9aa",
    "papermill": {
     "duration": 43.722993,
     "end_time": "2021-11-29T13:51:17.929098",
     "exception": false,
     "start_time": "2021-11-29T13:50:34.206105",
     "status": "completed"
    },
    "tags": []
   },
   "outputs": [
    {
     "name": "stdout",
     "output_type": "stream",
     "text": [
      "Epoch 1/80\n",
      "30/30 [==============================] - 8s 101ms/step - loss: 0.0082 - mean_absolute_error: 0.0618 - val_loss: 0.0102 - val_mean_absolute_error: 0.0834\n",
      "Epoch 2/80\n",
      "30/30 [==============================] - 3s 101ms/step - loss: 8.2392e-04 - mean_absolute_error: 0.0223 - val_loss: 0.0092 - val_mean_absolute_error: 0.0826\n",
      "Epoch 3/80\n",
      "30/30 [==============================] - 4s 146ms/step - loss: 6.0014e-04 - mean_absolute_error: 0.0175 - val_loss: 0.0037 - val_mean_absolute_error: 0.0489\n",
      "Epoch 4/80\n",
      "30/30 [==============================] - 3s 101ms/step - loss: 5.2656e-04 - mean_absolute_error: 0.0165 - val_loss: 0.0030 - val_mean_absolute_error: 0.0435\n",
      "Epoch 5/80\n",
      "30/30 [==============================] - 2s 82ms/step - loss: 4.8933e-04 - mean_absolute_error: 0.0158 - val_loss: 0.0027 - val_mean_absolute_error: 0.0409\n",
      "Epoch 6/80\n",
      "30/30 [==============================] - 1s 48ms/step - loss: 4.7039e-04 - mean_absolute_error: 0.0155 - val_loss: 0.0029 - val_mean_absolute_error: 0.0423\n",
      "Epoch 7/80\n",
      "30/30 [==============================] - 1s 48ms/step - loss: 4.6495e-04 - mean_absolute_error: 0.0155 - val_loss: 0.0033 - val_mean_absolute_error: 0.0467\n",
      "Epoch 8/80\n",
      "30/30 [==============================] - 2s 64ms/step - loss: 4.4701e-04 - mean_absolute_error: 0.0152 - val_loss: 0.0031 - val_mean_absolute_error: 0.0447\n",
      "Epoch 9/80\n",
      "30/30 [==============================] - 2s 73ms/step - loss: 4.1470e-04 - mean_absolute_error: 0.0145 - val_loss: 0.0063 - val_mean_absolute_error: 0.0683\n",
      "Epoch 10/80\n",
      "30/30 [==============================] - 2s 51ms/step - loss: 3.8722e-04 - mean_absolute_error: 0.0144 - val_loss: 0.0044 - val_mean_absolute_error: 0.0548\n",
      "Epoch 11/80\n",
      "30/30 [==============================] - 2s 51ms/step - loss: 3.9093e-04 - mean_absolute_error: 0.0144 - val_loss: 0.0078 - val_mean_absolute_error: 0.0761\n",
      "Epoch 12/80\n",
      "30/30 [==============================] - 1s 50ms/step - loss: 3.5111e-04 - mean_absolute_error: 0.0136 - val_loss: 0.0078 - val_mean_absolute_error: 0.0756\n",
      "Epoch 13/80\n",
      "30/30 [==============================] - 1s 50ms/step - loss: 4.0177e-04 - mean_absolute_error: 0.0144 - val_loss: 0.0123 - val_mean_absolute_error: 0.0963\n",
      "Epoch 14/80\n",
      "30/30 [==============================] - 1s 48ms/step - loss: 3.4297e-04 - mean_absolute_error: 0.0136 - val_loss: 0.0107 - val_mean_absolute_error: 0.0883\n",
      "Epoch 15/80\n",
      "30/30 [==============================] - 2s 51ms/step - loss: 3.4210e-04 - mean_absolute_error: 0.0136 - val_loss: 0.0100 - val_mean_absolute_error: 0.0844\n",
      "Epoch 16/80\n",
      "30/30 [==============================] - 2s 73ms/step - loss: 3.8776e-04 - mean_absolute_error: 0.0144 - val_loss: 0.0115 - val_mean_absolute_error: 0.0910\n",
      "Epoch 17/80\n",
      "30/30 [==============================] - 3s 103ms/step - loss: 3.1333e-04 - mean_absolute_error: 0.0131 - val_loss: 0.0068 - val_mean_absolute_error: 0.0671\n",
      "Epoch 18/80\n",
      "30/30 [==============================] - 2s 50ms/step - loss: 3.3026e-04 - mean_absolute_error: 0.0133 - val_loss: 0.0081 - val_mean_absolute_error: 0.0741\n",
      "Epoch 19/80\n",
      "30/30 [==============================] - 2s 51ms/step - loss: 3.0585e-04 - mean_absolute_error: 0.0128 - val_loss: 0.0103 - val_mean_absolute_error: 0.0851\n",
      "Epoch 20/80\n",
      "30/30 [==============================] - 1s 48ms/step - loss: 3.2436e-04 - mean_absolute_error: 0.0133 - val_loss: 0.0056 - val_mean_absolute_error: 0.0578\n",
      "Epoch 21/80\n",
      "30/30 [==============================] - 2s 50ms/step - loss: 3.1539e-04 - mean_absolute_error: 0.0130 - val_loss: 0.0105 - val_mean_absolute_error: 0.0847\n",
      "Epoch 22/80\n",
      "30/30 [==============================] - 2s 51ms/step - loss: 3.0572e-04 - mean_absolute_error: 0.0128 - val_loss: 0.0090 - val_mean_absolute_error: 0.0773\n",
      "Epoch 23/80\n",
      "30/30 [==============================] - 2s 71ms/step - loss: 3.0776e-04 - mean_absolute_error: 0.0128 - val_loss: 0.0095 - val_mean_absolute_error: 0.0787\n",
      "Epoch 24/80\n",
      "30/30 [==============================] - 2s 64ms/step - loss: 3.0960e-04 - mean_absolute_error: 0.0129 - val_loss: 0.0073 - val_mean_absolute_error: 0.0662\n",
      "Epoch 25/80\n",
      "30/30 [==============================] - 2s 51ms/step - loss: 2.9136e-04 - mean_absolute_error: 0.0127 - val_loss: 0.0088 - val_mean_absolute_error: 0.0737\n",
      "Epoch 26/80\n",
      "30/30 [==============================] - 1s 49ms/step - loss: 2.7555e-04 - mean_absolute_error: 0.0122 - val_loss: 0.0133 - val_mean_absolute_error: 0.0939\n",
      "Epoch 27/80\n",
      "30/30 [==============================] - 2s 50ms/step - loss: 2.9812e-04 - mean_absolute_error: 0.0128 - val_loss: 0.0121 - val_mean_absolute_error: 0.0893\n",
      "Epoch 28/80\n",
      "30/30 [==============================] - 1s 49ms/step - loss: 3.0631e-04 - mean_absolute_error: 0.0129 - val_loss: 0.0094 - val_mean_absolute_error: 0.0765\n",
      "Epoch 29/80\n",
      "30/30 [==============================] - 2s 51ms/step - loss: 2.7950e-04 - mean_absolute_error: 0.0123 - val_loss: 0.0115 - val_mean_absolute_error: 0.0877\n",
      "Epoch 30/80\n",
      "30/30 [==============================] - 1s 49ms/step - loss: 2.9313e-04 - mean_absolute_error: 0.0126 - val_loss: 0.0074 - val_mean_absolute_error: 0.0659\n",
      "Epoch 31/80\n",
      "30/30 [==============================] - 2s 79ms/step - loss: 2.7505e-04 - mean_absolute_error: 0.0122 - val_loss: 0.0161 - val_mean_absolute_error: 0.1049\n",
      "Epoch 32/80\n",
      "30/30 [==============================] - 2s 58ms/step - loss: 2.7820e-04 - mean_absolute_error: 0.0122 - val_loss: 0.0092 - val_mean_absolute_error: 0.0738\n",
      "Epoch 33/80\n",
      "30/30 [==============================] - 2s 51ms/step - loss: 2.7360e-04 - mean_absolute_error: 0.0123 - val_loss: 0.0141 - val_mean_absolute_error: 0.0965\n",
      "Epoch 34/80\n",
      "30/30 [==============================] - 2s 51ms/step - loss: 2.7904e-04 - mean_absolute_error: 0.0122 - val_loss: 0.0125 - val_mean_absolute_error: 0.0898\n",
      "Epoch 35/80\n",
      "30/30 [==============================] - 2s 51ms/step - loss: 3.0060e-04 - mean_absolute_error: 0.0129 - val_loss: 0.0179 - val_mean_absolute_error: 0.1126\n",
      "Epoch 36/80\n",
      "30/30 [==============================] - 1s 48ms/step - loss: 2.6128e-04 - mean_absolute_error: 0.0119 - val_loss: 0.0111 - val_mean_absolute_error: 0.0846\n",
      "Epoch 37/80\n",
      "30/30 [==============================] - 1s 48ms/step - loss: 2.7530e-04 - mean_absolute_error: 0.0124 - val_loss: 0.0062 - val_mean_absolute_error: 0.0583\n",
      "Epoch 38/80\n",
      "30/30 [==============================] - 1s 49ms/step - loss: 2.8915e-04 - mean_absolute_error: 0.0126 - val_loss: 0.0070 - val_mean_absolute_error: 0.0632\n",
      "Epoch 39/80\n",
      "30/30 [==============================] - 2s 84ms/step - loss: 2.5951e-04 - mean_absolute_error: 0.0118 - val_loss: 0.0094 - val_mean_absolute_error: 0.0768\n",
      "Epoch 40/80\n",
      "30/30 [==============================] - 2s 52ms/step - loss: 2.5718e-04 - mean_absolute_error: 0.0119 - val_loss: 0.0103 - val_mean_absolute_error: 0.0803\n",
      "Epoch 41/80\n",
      "30/30 [==============================] - 2s 51ms/step - loss: 2.4007e-04 - mean_absolute_error: 0.0115 - val_loss: 0.0106 - val_mean_absolute_error: 0.0807\n",
      "Epoch 42/80\n",
      "30/30 [==============================] - 2s 51ms/step - loss: 2.3868e-04 - mean_absolute_error: 0.0112 - val_loss: 0.0115 - val_mean_absolute_error: 0.0853\n",
      "Epoch 43/80\n",
      "30/30 [==============================] - 2s 54ms/step - loss: 2.3457e-04 - mean_absolute_error: 0.0113 - val_loss: 0.0114 - val_mean_absolute_error: 0.0847\n",
      "Epoch 44/80\n",
      "30/30 [==============================] - 1s 48ms/step - loss: 2.5444e-04 - mean_absolute_error: 0.0119 - val_loss: 0.0080 - val_mean_absolute_error: 0.0705\n",
      "Epoch 45/80\n",
      "30/30 [==============================] - 1s 49ms/step - loss: 2.5922e-04 - mean_absolute_error: 0.0120 - val_loss: 0.0054 - val_mean_absolute_error: 0.0541\n",
      "Epoch 46/80\n",
      "30/30 [==============================] - 2s 63ms/step - loss: 2.5683e-04 - mean_absolute_error: 0.0117 - val_loss: 0.0107 - val_mean_absolute_error: 0.0821\n",
      "Epoch 47/80\n",
      "30/30 [==============================] - 2s 74ms/step - loss: 2.2839e-04 - mean_absolute_error: 0.0109 - val_loss: 0.0103 - val_mean_absolute_error: 0.0806\n",
      "Epoch 48/80\n",
      "30/30 [==============================] - 2s 52ms/step - loss: 2.3497e-04 - mean_absolute_error: 0.0111 - val_loss: 0.0089 - val_mean_absolute_error: 0.0721\n",
      "Epoch 49/80\n",
      "30/30 [==============================] - 2s 52ms/step - loss: 2.3424e-04 - mean_absolute_error: 0.0112 - val_loss: 0.0094 - val_mean_absolute_error: 0.0756\n",
      "Epoch 50/80\n",
      "30/30 [==============================] - 1s 50ms/step - loss: 2.1695e-04 - mean_absolute_error: 0.0106 - val_loss: 0.0110 - val_mean_absolute_error: 0.0816\n",
      "Epoch 51/80\n",
      "30/30 [==============================] - 1s 50ms/step - loss: 2.2303e-04 - mean_absolute_error: 0.0110 - val_loss: 0.0111 - val_mean_absolute_error: 0.0816\n",
      "Epoch 52/80\n",
      "30/30 [==============================] - 2s 52ms/step - loss: 2.1963e-04 - mean_absolute_error: 0.0110 - val_loss: 0.0107 - val_mean_absolute_error: 0.0794\n",
      "Epoch 53/80\n",
      "30/30 [==============================] - 2s 52ms/step - loss: 2.0626e-04 - mean_absolute_error: 0.0105 - val_loss: 0.0090 - val_mean_absolute_error: 0.0714\n",
      "Epoch 54/80\n",
      "30/30 [==============================] - 2s 77ms/step - loss: 2.2190e-04 - mean_absolute_error: 0.0108 - val_loss: 0.0135 - val_mean_absolute_error: 0.0927\n",
      "Epoch 55/80\n",
      "30/30 [==============================] - 2s 62ms/step - loss: 2.0332e-04 - mean_absolute_error: 0.0106 - val_loss: 0.0072 - val_mean_absolute_error: 0.0628\n",
      "Epoch 56/80\n",
      "30/30 [==============================] - 2s 50ms/step - loss: 2.0121e-04 - mean_absolute_error: 0.0103 - val_loss: 0.0087 - val_mean_absolute_error: 0.0725\n",
      "Epoch 57/80\n",
      "30/30 [==============================] - 1s 50ms/step - loss: 2.0593e-04 - mean_absolute_error: 0.0106 - val_loss: 0.0078 - val_mean_absolute_error: 0.0669\n",
      "Epoch 58/80\n",
      "30/30 [==============================] - 2s 51ms/step - loss: 2.0070e-04 - mean_absolute_error: 0.0103 - val_loss: 0.0119 - val_mean_absolute_error: 0.0872\n",
      "Epoch 59/80\n",
      "30/30 [==============================] - 1s 48ms/step - loss: 2.0099e-04 - mean_absolute_error: 0.0103 - val_loss: 0.0099 - val_mean_absolute_error: 0.0784\n",
      "Epoch 60/80\n",
      "30/30 [==============================] - 2s 51ms/step - loss: 2.1481e-04 - mean_absolute_error: 0.0107 - val_loss: 0.0091 - val_mean_absolute_error: 0.0741\n",
      "Epoch 61/80\n",
      "30/30 [==============================] - 2s 52ms/step - loss: 1.8848e-04 - mean_absolute_error: 0.0099 - val_loss: 0.0090 - val_mean_absolute_error: 0.0739\n",
      "Epoch 62/80\n",
      "30/30 [==============================] - 3s 87ms/step - loss: 2.0720e-04 - mean_absolute_error: 0.0105 - val_loss: 0.0104 - val_mean_absolute_error: 0.0810\n",
      "Epoch 63/80\n",
      "30/30 [==============================] - 2s 77ms/step - loss: 1.9734e-04 - mean_absolute_error: 0.0103 - val_loss: 0.0094 - val_mean_absolute_error: 0.0756\n",
      "Epoch 64/80\n",
      "30/30 [==============================] - 2s 64ms/step - loss: 2.5063e-04 - mean_absolute_error: 0.0119 - val_loss: 0.0051 - val_mean_absolute_error: 0.0537\n",
      "Epoch 65/80\n",
      "30/30 [==============================] - 2s 51ms/step - loss: 2.3805e-04 - mean_absolute_error: 0.0114 - val_loss: 0.0065 - val_mean_absolute_error: 0.0625\n",
      "Epoch 66/80\n",
      "30/30 [==============================] - 2s 52ms/step - loss: 1.9129e-04 - mean_absolute_error: 0.0099 - val_loss: 0.0075 - val_mean_absolute_error: 0.0673\n",
      "Epoch 67/80\n",
      "30/30 [==============================] - 2s 50ms/step - loss: 1.8309e-04 - mean_absolute_error: 0.0099 - val_loss: 0.0080 - val_mean_absolute_error: 0.0697\n",
      "Epoch 68/80\n",
      "30/30 [==============================] - 2s 59ms/step - loss: 1.7766e-04 - mean_absolute_error: 0.0098 - val_loss: 0.0078 - val_mean_absolute_error: 0.0677\n",
      "Epoch 69/80\n",
      "30/30 [==============================] - 2s 80ms/step - loss: 1.9097e-04 - mean_absolute_error: 0.0100 - val_loss: 0.0064 - val_mean_absolute_error: 0.0589\n",
      "Epoch 70/80\n",
      "30/30 [==============================] - 1s 50ms/step - loss: 2.0298e-04 - mean_absolute_error: 0.0103 - val_loss: 0.0044 - val_mean_absolute_error: 0.0479\n",
      "Epoch 71/80\n",
      "30/30 [==============================] - 1s 50ms/step - loss: 1.8119e-04 - mean_absolute_error: 0.0098 - val_loss: 0.0095 - val_mean_absolute_error: 0.0782\n",
      "Epoch 72/80\n",
      "30/30 [==============================] - 1s 50ms/step - loss: 1.7762e-04 - mean_absolute_error: 0.0097 - val_loss: 0.0101 - val_mean_absolute_error: 0.0792\n",
      "Epoch 73/80\n",
      "30/30 [==============================] - 2s 51ms/step - loss: 1.7866e-04 - mean_absolute_error: 0.0097 - val_loss: 0.0093 - val_mean_absolute_error: 0.0769\n",
      "Epoch 74/80\n",
      "30/30 [==============================] - 2s 50ms/step - loss: 1.6525e-04 - mean_absolute_error: 0.0093 - val_loss: 0.0053 - val_mean_absolute_error: 0.0548\n",
      "Epoch 75/80\n",
      "30/30 [==============================] - 1s 48ms/step - loss: 1.7446e-04 - mean_absolute_error: 0.0097 - val_loss: 0.0115 - val_mean_absolute_error: 0.0896\n",
      "Epoch 76/80\n",
      "30/30 [==============================] - 2s 68ms/step - loss: 1.7971e-04 - mean_absolute_error: 0.0098 - val_loss: 0.0064 - val_mean_absolute_error: 0.0622\n",
      "Epoch 77/80\n",
      "30/30 [==============================] - 2s 71ms/step - loss: 1.6457e-04 - mean_absolute_error: 0.0092 - val_loss: 0.0065 - val_mean_absolute_error: 0.0621\n",
      "Epoch 78/80\n",
      "30/30 [==============================] - 2s 53ms/step - loss: 1.6698e-04 - mean_absolute_error: 0.0094 - val_loss: 0.0065 - val_mean_absolute_error: 0.0621\n",
      "Epoch 79/80\n",
      "30/30 [==============================] - 2s 53ms/step - loss: 1.6243e-04 - mean_absolute_error: 0.0092 - val_loss: 0.0079 - val_mean_absolute_error: 0.0695\n",
      "Epoch 80/80\n",
      "30/30 [==============================] - 2s 51ms/step - loss: 1.5960e-04 - mean_absolute_error: 0.0091 - val_loss: 0.0064 - val_mean_absolute_error: 0.0606\n"
     ]
    },
    {
     "data": {
      "text/plain": [
       "<keras.src.callbacks.History at 0x7df501dd4cd0>"
      ]
     },
     "execution_count": 18,
     "metadata": {},
     "output_type": "execute_result"
    }
   ],
   "source": [
    "model.fit(train_seq, train_label, epochs=80,validation_data=(test_seq, test_label), verbose=1)"
   ]
  },
  {
   "cell_type": "code",
   "execution_count": 19,
   "id": "00a066fd",
   "metadata": {
    "colab": {
     "base_uri": "https://localhost:8080/"
    },
    "execution": {
     "iopub.execute_input": "2021-11-29T13:51:18.207348Z",
     "iopub.status.busy": "2021-11-29T13:51:18.206496Z",
     "iopub.status.idle": "2021-11-29T13:51:18.771138Z",
     "shell.execute_reply": "2021-11-29T13:51:18.770439Z",
     "shell.execute_reply.started": "2021-11-29T13:49:18.810485Z"
    },
    "id": "00a066fd",
    "outputId": "476f5016-a67d-48b8-8cdb-ddff3d2a332b",
    "papermill": {
     "duration": 0.706009,
     "end_time": "2021-11-29T13:51:18.771268",
     "exception": false,
     "start_time": "2021-11-29T13:51:18.065259",
     "status": "completed"
    },
    "tags": []
   },
   "outputs": [
    {
     "name": "stdout",
     "output_type": "stream",
     "text": [
      "7/7 [==============================] - 1s 21ms/step\n"
     ]
    },
    {
     "data": {
      "text/plain": [
       "array([[0.47798193, 0.48992082],\n",
       "       [0.48492643, 0.49712205],\n",
       "       [0.4899919 , 0.5024545 ],\n",
       "       [0.5011555 , 0.5135952 ],\n",
       "       [0.5109186 , 0.5237236 ]], dtype=float32)"
      ]
     },
     "execution_count": 19,
     "metadata": {},
     "output_type": "execute_result"
    }
   ],
   "source": [
    "test_predicted = model.predict(test_seq)\n",
    "test_predicted[:5]"
   ]
  },
  {
   "cell_type": "code",
   "execution_count": 20,
   "id": "d6fcdf6d",
   "metadata": {
    "colab": {
     "base_uri": "https://localhost:8080/"
    },
    "execution": {
     "iopub.execute_input": "2021-11-29T13:51:19.050901Z",
     "iopub.status.busy": "2021-11-29T13:51:19.050171Z",
     "iopub.status.idle": "2021-11-29T13:51:19.052912Z",
     "shell.execute_reply": "2021-11-29T13:51:19.053381Z",
     "shell.execute_reply.started": "2021-11-29T13:49:19.632807Z"
    },
    "id": "d6fcdf6d",
    "outputId": "ee3ea91b-f50d-49ff-92e6-da9b29f6b6e7",
    "papermill": {
     "duration": 0.14273,
     "end_time": "2021-11-29T13:51:19.053517",
     "exception": false,
     "start_time": "2021-11-29T13:51:18.910787",
     "status": "completed"
    },
    "tags": []
   },
   "outputs": [
    {
     "data": {
      "text/plain": [
       "array([[1557.1403, 1576.2499],\n",
       "       [1570.0148, 1589.5962],\n",
       "       [1579.4058, 1599.4791],\n",
       "       [1600.1022, 1620.1266],\n",
       "       [1618.2023, 1638.898 ]], dtype=float32)"
      ]
     },
     "execution_count": 20,
     "metadata": {},
     "output_type": "execute_result"
    }
   ],
   "source": [
    "test_inverse_predicted = MMS.inverse_transform(test_predicted) # Inversing scaling on predicted data\n",
    "test_inverse_predicted[:5]"
   ]
  },
  {
   "cell_type": "markdown",
   "id": "d5e0763f",
   "metadata": {
    "id": "d5e0763f",
    "papermill": {
     "duration": 0.135195,
     "end_time": "2021-11-29T13:51:19.327400",
     "exception": false,
     "start_time": "2021-11-29T13:51:19.192205",
     "status": "completed"
    },
    "tags": []
   },
   "source": [
    "# Visualizing predicted and actual data"
   ]
  },
  {
   "cell_type": "code",
   "execution_count": 21,
   "id": "b1482c2b",
   "metadata": {
    "execution": {
     "iopub.execute_input": "2021-11-29T13:51:19.604064Z",
     "iopub.status.busy": "2021-11-29T13:51:19.602429Z",
     "iopub.status.idle": "2021-11-29T13:51:19.604676Z",
     "shell.execute_reply": "2021-11-29T13:51:19.605114Z",
     "shell.execute_reply.started": "2021-11-29T13:49:19.643481Z"
    },
    "id": "b1482c2b",
    "papermill": {
     "duration": 0.14293,
     "end_time": "2021-11-29T13:51:19.605250",
     "exception": false,
     "start_time": "2021-11-29T13:51:19.462320",
     "status": "completed"
    },
    "tags": []
   },
   "outputs": [],
   "source": [
    "# Merging actual and predicted data for better visualization\n",
    "\n",
    "gs_slic_data = pd.concat([google_stock_data.iloc[-202:].copy(),pd.DataFrame(test_inverse_predicted,columns=['open_predicted','close_predicted'],index=google_stock_data.iloc[-202:].index)], axis=1)"
   ]
  },
  {
   "cell_type": "code",
   "execution_count": 22,
   "id": "0f71d152",
   "metadata": {
    "execution": {
     "iopub.execute_input": "2021-11-29T13:51:19.880857Z",
     "iopub.status.busy": "2021-11-29T13:51:19.880216Z",
     "iopub.status.idle": "2021-11-29T13:51:19.883242Z",
     "shell.execute_reply": "2021-11-29T13:51:19.882723Z",
     "shell.execute_reply.started": "2021-11-29T13:49:19.653884Z"
    },
    "id": "0f71d152",
    "papermill": {
     "duration": 0.144781,
     "end_time": "2021-11-29T13:51:19.883366",
     "exception": false,
     "start_time": "2021-11-29T13:51:19.738585",
     "status": "completed"
    },
    "tags": []
   },
   "outputs": [],
   "source": [
    "gs_slic_data[['open','close']] = MMS.inverse_transform(gs_slic_data[['open','close']]) # Inverse scaling"
   ]
  },
  {
   "cell_type": "code",
   "execution_count": 23,
   "id": "a10799e0",
   "metadata": {
    "colab": {
     "base_uri": "https://localhost:8080/",
     "height": 238
    },
    "execution": {
     "iopub.execute_input": "2021-11-29T13:51:20.162595Z",
     "iopub.status.busy": "2021-11-29T13:51:20.161846Z",
     "iopub.status.idle": "2021-11-29T13:51:20.164892Z",
     "shell.execute_reply": "2021-11-29T13:51:20.165390Z",
     "shell.execute_reply.started": "2021-11-29T13:49:19.666415Z"
    },
    "id": "a10799e0",
    "outputId": "bebe5913-e066-42e4-9dda-0663cd68cea3",
    "papermill": {
     "duration": 0.148138,
     "end_time": "2021-11-29T13:51:20.165530",
     "exception": false,
     "start_time": "2021-11-29T13:51:20.017392",
     "status": "completed"
    },
    "tags": []
   },
   "outputs": [
    {
     "data": {
      "text/html": [
       "\n",
       "  <div id=\"df-dd5caa64-388f-4460-8192-f7d14ae2ffa3\" class=\"colab-df-container\">\n",
       "    <div>\n",
       "<style scoped>\n",
       "    .dataframe tbody tr th:only-of-type {\n",
       "        vertical-align: middle;\n",
       "    }\n",
       "\n",
       "    .dataframe tbody tr th {\n",
       "        vertical-align: top;\n",
       "    }\n",
       "\n",
       "    .dataframe thead th {\n",
       "        text-align: right;\n",
       "    }\n",
       "</style>\n",
       "<table border=\"1\" class=\"dataframe\">\n",
       "  <thead>\n",
       "    <tr style=\"text-align: right;\">\n",
       "      <th></th>\n",
       "      <th>open</th>\n",
       "      <th>close</th>\n",
       "      <th>open_predicted</th>\n",
       "      <th>close_predicted</th>\n",
       "    </tr>\n",
       "    <tr>\n",
       "      <th>date</th>\n",
       "      <th></th>\n",
       "      <th></th>\n",
       "      <th></th>\n",
       "      <th></th>\n",
       "    </tr>\n",
       "  </thead>\n",
       "  <tbody>\n",
       "    <tr>\n",
       "      <th>2020-08-24</th>\n",
       "      <td>1593.98</td>\n",
       "      <td>1588.20</td>\n",
       "      <td>1557.140259</td>\n",
       "      <td>1576.249878</td>\n",
       "    </tr>\n",
       "    <tr>\n",
       "      <th>2020-08-25</th>\n",
       "      <td>1582.07</td>\n",
       "      <td>1608.22</td>\n",
       "      <td>1570.014771</td>\n",
       "      <td>1589.596191</td>\n",
       "    </tr>\n",
       "    <tr>\n",
       "      <th>2020-08-26</th>\n",
       "      <td>1608.00</td>\n",
       "      <td>1652.38</td>\n",
       "      <td>1579.405762</td>\n",
       "      <td>1599.479126</td>\n",
       "    </tr>\n",
       "    <tr>\n",
       "      <th>2020-08-27</th>\n",
       "      <td>1653.68</td>\n",
       "      <td>1634.33</td>\n",
       "      <td>1600.102173</td>\n",
       "      <td>1620.126587</td>\n",
       "    </tr>\n",
       "    <tr>\n",
       "      <th>2020-08-28</th>\n",
       "      <td>1633.49</td>\n",
       "      <td>1644.41</td>\n",
       "      <td>1618.202271</td>\n",
       "      <td>1638.897949</td>\n",
       "    </tr>\n",
       "  </tbody>\n",
       "</table>\n",
       "</div>\n",
       "    <div class=\"colab-df-buttons\">\n",
       "\n",
       "  <div class=\"colab-df-container\">\n",
       "    <button class=\"colab-df-convert\" onclick=\"convertToInteractive('df-dd5caa64-388f-4460-8192-f7d14ae2ffa3')\"\n",
       "            title=\"Convert this dataframe to an interactive table.\"\n",
       "            style=\"display:none;\">\n",
       "\n",
       "  <svg xmlns=\"http://www.w3.org/2000/svg\" height=\"24px\" viewBox=\"0 -960 960 960\">\n",
       "    <path d=\"M120-120v-720h720v720H120Zm60-500h600v-160H180v160Zm220 220h160v-160H400v160Zm0 220h160v-160H400v160ZM180-400h160v-160H180v160Zm440 0h160v-160H620v160ZM180-180h160v-160H180v160Zm440 0h160v-160H620v160Z\"/>\n",
       "  </svg>\n",
       "    </button>\n",
       "\n",
       "  <style>\n",
       "    .colab-df-container {\n",
       "      display:flex;\n",
       "      gap: 12px;\n",
       "    }\n",
       "\n",
       "    .colab-df-convert {\n",
       "      background-color: #E8F0FE;\n",
       "      border: none;\n",
       "      border-radius: 50%;\n",
       "      cursor: pointer;\n",
       "      display: none;\n",
       "      fill: #1967D2;\n",
       "      height: 32px;\n",
       "      padding: 0 0 0 0;\n",
       "      width: 32px;\n",
       "    }\n",
       "\n",
       "    .colab-df-convert:hover {\n",
       "      background-color: #E2EBFA;\n",
       "      box-shadow: 0px 1px 2px rgba(60, 64, 67, 0.3), 0px 1px 3px 1px rgba(60, 64, 67, 0.15);\n",
       "      fill: #174EA6;\n",
       "    }\n",
       "\n",
       "    .colab-df-buttons div {\n",
       "      margin-bottom: 4px;\n",
       "    }\n",
       "\n",
       "    [theme=dark] .colab-df-convert {\n",
       "      background-color: #3B4455;\n",
       "      fill: #D2E3FC;\n",
       "    }\n",
       "\n",
       "    [theme=dark] .colab-df-convert:hover {\n",
       "      background-color: #434B5C;\n",
       "      box-shadow: 0px 1px 3px 1px rgba(0, 0, 0, 0.15);\n",
       "      filter: drop-shadow(0px 1px 2px rgba(0, 0, 0, 0.3));\n",
       "      fill: #FFFFFF;\n",
       "    }\n",
       "  </style>\n",
       "\n",
       "    <script>\n",
       "      const buttonEl =\n",
       "        document.querySelector('#df-dd5caa64-388f-4460-8192-f7d14ae2ffa3 button.colab-df-convert');\n",
       "      buttonEl.style.display =\n",
       "        google.colab.kernel.accessAllowed ? 'block' : 'none';\n",
       "\n",
       "      async function convertToInteractive(key) {\n",
       "        const element = document.querySelector('#df-dd5caa64-388f-4460-8192-f7d14ae2ffa3');\n",
       "        const dataTable =\n",
       "          await google.colab.kernel.invokeFunction('convertToInteractive',\n",
       "                                                    [key], {});\n",
       "        if (!dataTable) return;\n",
       "\n",
       "        const docLinkHtml = 'Like what you see? Visit the ' +\n",
       "          '<a target=\"_blank\" href=https://colab.research.google.com/notebooks/data_table.ipynb>data table notebook</a>'\n",
       "          + ' to learn more about interactive tables.';\n",
       "        element.innerHTML = '';\n",
       "        dataTable['output_type'] = 'display_data';\n",
       "        await google.colab.output.renderOutput(dataTable, element);\n",
       "        const docLink = document.createElement('div');\n",
       "        docLink.innerHTML = docLinkHtml;\n",
       "        element.appendChild(docLink);\n",
       "      }\n",
       "    </script>\n",
       "  </div>\n",
       "\n",
       "\n",
       "<div id=\"df-c226b3d8-0dd8-4611-a03b-7c6b19a31986\">\n",
       "  <button class=\"colab-df-quickchart\" onclick=\"quickchart('df-c226b3d8-0dd8-4611-a03b-7c6b19a31986')\"\n",
       "            title=\"Suggest charts.\"\n",
       "            style=\"display:none;\">\n",
       "\n",
       "<svg xmlns=\"http://www.w3.org/2000/svg\" height=\"24px\"viewBox=\"0 0 24 24\"\n",
       "     width=\"24px\">\n",
       "    <g>\n",
       "        <path d=\"M19 3H5c-1.1 0-2 .9-2 2v14c0 1.1.9 2 2 2h14c1.1 0 2-.9 2-2V5c0-1.1-.9-2-2-2zM9 17H7v-7h2v7zm4 0h-2V7h2v10zm4 0h-2v-4h2v4z\"/>\n",
       "    </g>\n",
       "</svg>\n",
       "  </button>\n",
       "\n",
       "<style>\n",
       "  .colab-df-quickchart {\n",
       "      --bg-color: #E8F0FE;\n",
       "      --fill-color: #1967D2;\n",
       "      --hover-bg-color: #E2EBFA;\n",
       "      --hover-fill-color: #174EA6;\n",
       "      --disabled-fill-color: #AAA;\n",
       "      --disabled-bg-color: #DDD;\n",
       "  }\n",
       "\n",
       "  [theme=dark] .colab-df-quickchart {\n",
       "      --bg-color: #3B4455;\n",
       "      --fill-color: #D2E3FC;\n",
       "      --hover-bg-color: #434B5C;\n",
       "      --hover-fill-color: #FFFFFF;\n",
       "      --disabled-bg-color: #3B4455;\n",
       "      --disabled-fill-color: #666;\n",
       "  }\n",
       "\n",
       "  .colab-df-quickchart {\n",
       "    background-color: var(--bg-color);\n",
       "    border: none;\n",
       "    border-radius: 50%;\n",
       "    cursor: pointer;\n",
       "    display: none;\n",
       "    fill: var(--fill-color);\n",
       "    height: 32px;\n",
       "    padding: 0;\n",
       "    width: 32px;\n",
       "  }\n",
       "\n",
       "  .colab-df-quickchart:hover {\n",
       "    background-color: var(--hover-bg-color);\n",
       "    box-shadow: 0 1px 2px rgba(60, 64, 67, 0.3), 0 1px 3px 1px rgba(60, 64, 67, 0.15);\n",
       "    fill: var(--button-hover-fill-color);\n",
       "  }\n",
       "\n",
       "  .colab-df-quickchart-complete:disabled,\n",
       "  .colab-df-quickchart-complete:disabled:hover {\n",
       "    background-color: var(--disabled-bg-color);\n",
       "    fill: var(--disabled-fill-color);\n",
       "    box-shadow: none;\n",
       "  }\n",
       "\n",
       "  .colab-df-spinner {\n",
       "    border: 2px solid var(--fill-color);\n",
       "    border-color: transparent;\n",
       "    border-bottom-color: var(--fill-color);\n",
       "    animation:\n",
       "      spin 1s steps(1) infinite;\n",
       "  }\n",
       "\n",
       "  @keyframes spin {\n",
       "    0% {\n",
       "      border-color: transparent;\n",
       "      border-bottom-color: var(--fill-color);\n",
       "      border-left-color: var(--fill-color);\n",
       "    }\n",
       "    20% {\n",
       "      border-color: transparent;\n",
       "      border-left-color: var(--fill-color);\n",
       "      border-top-color: var(--fill-color);\n",
       "    }\n",
       "    30% {\n",
       "      border-color: transparent;\n",
       "      border-left-color: var(--fill-color);\n",
       "      border-top-color: var(--fill-color);\n",
       "      border-right-color: var(--fill-color);\n",
       "    }\n",
       "    40% {\n",
       "      border-color: transparent;\n",
       "      border-right-color: var(--fill-color);\n",
       "      border-top-color: var(--fill-color);\n",
       "    }\n",
       "    60% {\n",
       "      border-color: transparent;\n",
       "      border-right-color: var(--fill-color);\n",
       "    }\n",
       "    80% {\n",
       "      border-color: transparent;\n",
       "      border-right-color: var(--fill-color);\n",
       "      border-bottom-color: var(--fill-color);\n",
       "    }\n",
       "    90% {\n",
       "      border-color: transparent;\n",
       "      border-bottom-color: var(--fill-color);\n",
       "    }\n",
       "  }\n",
       "</style>\n",
       "\n",
       "  <script>\n",
       "    async function quickchart(key) {\n",
       "      const quickchartButtonEl =\n",
       "        document.querySelector('#' + key + ' button');\n",
       "      quickchartButtonEl.disabled = true;  // To prevent multiple clicks.\n",
       "      quickchartButtonEl.classList.add('colab-df-spinner');\n",
       "      try {\n",
       "        const charts = await google.colab.kernel.invokeFunction(\n",
       "            'suggestCharts', [key], {});\n",
       "      } catch (error) {\n",
       "        console.error('Error during call to suggestCharts:', error);\n",
       "      }\n",
       "      quickchartButtonEl.classList.remove('colab-df-spinner');\n",
       "      quickchartButtonEl.classList.add('colab-df-quickchart-complete');\n",
       "    }\n",
       "    (() => {\n",
       "      let quickchartButtonEl =\n",
       "        document.querySelector('#df-c226b3d8-0dd8-4611-a03b-7c6b19a31986 button');\n",
       "      quickchartButtonEl.style.display =\n",
       "        google.colab.kernel.accessAllowed ? 'block' : 'none';\n",
       "    })();\n",
       "  </script>\n",
       "</div>\n",
       "    </div>\n",
       "  </div>\n"
      ],
      "text/plain": [
       "               open    close  open_predicted  close_predicted\n",
       "date                                                         \n",
       "2020-08-24  1593.98  1588.20     1557.140259      1576.249878\n",
       "2020-08-25  1582.07  1608.22     1570.014771      1589.596191\n",
       "2020-08-26  1608.00  1652.38     1579.405762      1599.479126\n",
       "2020-08-27  1653.68  1634.33     1600.102173      1620.126587\n",
       "2020-08-28  1633.49  1644.41     1618.202271      1638.897949"
      ]
     },
     "execution_count": 23,
     "metadata": {},
     "output_type": "execute_result"
    }
   ],
   "source": [
    "gs_slic_data.head()"
   ]
  },
  {
   "cell_type": "code",
   "execution_count": 24,
   "id": "6313352b",
   "metadata": {
    "colab": {
     "base_uri": "https://localhost:8080/",
     "height": 555
    },
    "execution": {
     "iopub.execute_input": "2021-11-29T13:51:20.444637Z",
     "iopub.status.busy": "2021-11-29T13:51:20.444000Z",
     "iopub.status.idle": "2021-11-29T13:51:20.733288Z",
     "shell.execute_reply": "2021-11-29T13:51:20.733701Z",
     "shell.execute_reply.started": "2021-11-29T13:49:19.687236Z"
    },
    "id": "6313352b",
    "outputId": "9b40e668-ab98-4701-e601-38cd02adb763",
    "papermill": {
     "duration": 0.428726,
     "end_time": "2021-11-29T13:51:20.733862",
     "exception": false,
     "start_time": "2021-11-29T13:51:20.305136",
     "status": "completed"
    },
    "tags": []
   },
   "outputs": [
    {
     "data": {
      "image/png": "[encoded data removed]",
      "text/plain": [
       "<Figure size 1000x600 with 1 Axes>"
      ]
     },
     "metadata": {},
     "output_type": "display_data"
    }
   ],
   "source": [
    "gs_slic_data[['open','open_predicted']].plot(figsize=(10,6))\n",
    "plt.xticks(rotation=45)\n",
    "plt.xlabel('Date',size=15)\n",
    "plt.ylabel('Stock Price',size=15)\n",
    "plt.title('Actual vs Predicted for open price',size=15)\n",
    "plt.show()"
   ]
  },
  {
   "cell_type": "code",
   "execution_count": 25,
   "id": "4b05123b",
   "metadata": {
    "colab": {
     "base_uri": "https://localhost:8080/",
     "height": 555
    },
    "execution": {
     "iopub.execute_input": "2021-11-29T13:51:21.026765Z",
     "iopub.status.busy": "2021-11-29T13:51:21.025624Z",
     "iopub.status.idle": "2021-11-29T13:51:21.298379Z",
     "shell.execute_reply": "2021-11-29T13:51:21.298843Z",
     "shell.execute_reply.started": "2021-11-29T13:49:19.996117Z"
    },
    "id": "4b05123b",
    "outputId": "72730460-2eaf-44ba-aab3-e1f3a3ea5097",
    "papermill": {
     "duration": 0.430469,
     "end_time": "2021-11-29T13:51:21.298994",
     "exception": false,
     "start_time": "2021-11-29T13:51:20.868525",
     "status": "completed"
    },
    "tags": []
   },
   "outputs": [
    {
     "data": {
      "image/png": "[encoded data removed]",
      "text/plain": [
       "<Figure size 1000x600 with 1 Axes>"
      ]
     },
     "metadata": {},
     "output_type": "display_data"
    }
   ],
   "source": [
    "gs_slic_data[['close','close_predicted']].plot(figsize=(10,6))\n",
    "plt.xticks(rotation=45)\n",
    "plt.xlabel('Date',size=15)\n",
    "plt.ylabel('Stock Price',size=15)\n",
    "plt.title('Actual vs Predicted for close price',size=15)\n",
    "plt.show()"
   ]
  },
  {
   "cell_type": "markdown",
   "id": "d404369a",
   "metadata": {
    "id": "d404369a",
    "papermill": {
     "duration": 0.135991,
     "end_time": "2021-11-29T13:51:21.574630",
     "exception": false,
     "start_time": "2021-11-29T13:51:21.438639",
     "status": "completed"
    },
    "tags": []
   },
   "source": [
    "# Predicting upcoming 10 days"
   ]
  },
  {
   "cell_type": "code",
   "execution_count": 26,
   "id": "904b10e1",
   "metadata": {
    "execution": {
     "iopub.execute_input": "2021-11-29T13:51:21.863813Z",
     "iopub.status.busy": "2021-11-29T13:51:21.862906Z",
     "iopub.status.idle": "2021-11-29T13:51:21.864849Z",
     "shell.execute_reply": "2021-11-29T13:51:21.865302Z",
     "shell.execute_reply.started": "2021-11-29T13:49:20.293808Z"
    },
    "id": "904b10e1",
    "papermill": {
     "duration": 0.149481,
     "end_time": "2021-11-29T13:51:21.865439",
     "exception": false,
     "start_time": "2021-11-29T13:51:21.715958",
     "status": "completed"
    },
    "tags": []
   },
   "outputs": [],
   "source": [
    "# Creating a dataframe and adding 10 days to existing index\n",
    "\n",
    "gs_slic_data = gs_slic_data.append(pd.DataFrame(columns=gs_slic_data.columns,index=pd.date_range(start=gs_slic_data.index[-1], periods=11, freq='D', closed='right')))\n"
   ]
  },
  {
   "cell_type": "code",
   "execution_count": 27,
   "id": "d2f9bda9",
   "metadata": {
    "colab": {
     "base_uri": "https://localhost:8080/",
     "height": 300
    },
    "execution": {
     "iopub.execute_input": "2021-11-29T13:51:22.160082Z",
     "iopub.status.busy": "2021-11-29T13:51:22.159226Z",
     "iopub.status.idle": "2021-11-29T13:51:22.162214Z",
     "shell.execute_reply": "2021-11-29T13:51:22.162638Z",
     "shell.execute_reply.started": "2021-11-29T13:49:20.302965Z"
    },
    "id": "d2f9bda9",
    "outputId": "7414353c-57ee-43b5-ba10-0f5dddd0e36b",
    "papermill": {
     "duration": 0.158094,
     "end_time": "2021-11-29T13:51:22.162804",
     "exception": false,
     "start_time": "2021-11-29T13:51:22.004710",
     "status": "completed"
    },
    "tags": []
   },
   "outputs": [
    {
     "data": {
      "text/html": [
       "\n",
       "  <div id=\"df-859ecdf5-11f8-4c75-8c81-5e16eff27218\" class=\"colab-df-container\">\n",
       "    <div>\n",
       "<style scoped>\n",
       "    .dataframe tbody tr th:only-of-type {\n",
       "        vertical-align: middle;\n",
       "    }\n",
       "\n",
       "    .dataframe tbody tr th {\n",
       "        vertical-align: top;\n",
       "    }\n",
       "\n",
       "    .dataframe thead th {\n",
       "        text-align: right;\n",
       "    }\n",
       "</style>\n",
       "<table border=\"1\" class=\"dataframe\">\n",
       "  <thead>\n",
       "    <tr style=\"text-align: right;\">\n",
       "      <th></th>\n",
       "      <th>open</th>\n",
       "      <th>close</th>\n",
       "      <th>open_predicted</th>\n",
       "      <th>close_predicted</th>\n",
       "    </tr>\n",
       "  </thead>\n",
       "  <tbody>\n",
       "    <tr>\n",
       "      <th>2021-06-09</th>\n",
       "      <td>2499.50</td>\n",
       "      <td>2491.40</td>\n",
       "      <td>2138.929443</td>\n",
       "      <td>2263.988770</td>\n",
       "    </tr>\n",
       "    <tr>\n",
       "      <th>2021-06-10</th>\n",
       "      <td>2494.01</td>\n",
       "      <td>2521.60</td>\n",
       "      <td>2159.440918</td>\n",
       "      <td>2289.226807</td>\n",
       "    </tr>\n",
       "    <tr>\n",
       "      <th>2021-06-11</th>\n",
       "      <td>2524.92</td>\n",
       "      <td>2513.93</td>\n",
       "      <td>2172.053955</td>\n",
       "      <td>2306.037354</td>\n",
       "    </tr>\n",
       "    <tr>\n",
       "      <th>2021-06-12</th>\n",
       "      <td>NaN</td>\n",
       "      <td>NaN</td>\n",
       "      <td>NaN</td>\n",
       "      <td>NaN</td>\n",
       "    </tr>\n",
       "    <tr>\n",
       "      <th>2021-06-13</th>\n",
       "      <td>NaN</td>\n",
       "      <td>NaN</td>\n",
       "      <td>NaN</td>\n",
       "      <td>NaN</td>\n",
       "    </tr>\n",
       "    <tr>\n",
       "      <th>2021-06-14</th>\n",
       "      <td>NaN</td>\n",
       "      <td>NaN</td>\n",
       "      <td>NaN</td>\n",
       "      <td>NaN</td>\n",
       "    </tr>\n",
       "    <tr>\n",
       "      <th>2021-06-15</th>\n",
       "      <td>NaN</td>\n",
       "      <td>NaN</td>\n",
       "      <td>NaN</td>\n",
       "      <td>NaN</td>\n",
       "    </tr>\n",
       "    <tr>\n",
       "      <th>2021-06-16</th>\n",
       "      <td>NaN</td>\n",
       "      <td>NaN</td>\n",
       "      <td>NaN</td>\n",
       "      <td>NaN</td>\n",
       "    </tr>\n",
       "  </tbody>\n",
       "</table>\n",
       "</div>\n",
       "    <div class=\"colab-df-buttons\">\n",
       "\n",
       "  <div class=\"colab-df-container\">\n",
       "    <button class=\"colab-df-convert\" onclick=\"convertToInteractive('df-859ecdf5-11f8-4c75-8c81-5e16eff27218')\"\n",
       "            title=\"Convert this dataframe to an interactive table.\"\n",
       "            style=\"display:none;\">\n",
       "\n",
       "  <svg xmlns=\"http://www.w3.org/2000/svg\" height=\"24px\" viewBox=\"0 -960 960 960\">\n",
       "    <path d=\"M120-120v-720h720v720H120Zm60-500h600v-160H180v160Zm220 220h160v-160H400v160Zm0 220h160v-160H400v160ZM180-400h160v-160H180v160Zm440 0h160v-160H620v160ZM180-180h160v-160H180v160Zm440 0h160v-160H620v160Z\"/>\n",
       "  </svg>\n",
       "    </button>\n",
       "\n",
       "  <style>\n",
       "    .colab-df-container {\n",
       "      display:flex;\n",
       "      gap: 12px;\n",
       "    }\n",
       "\n",
       "    .colab-df-convert {\n",
       "      background-color: #E8F0FE;\n",
       "      border: none;\n",
       "      border-radius: 50%;\n",
       "      cursor: pointer;\n",
       "      display: none;\n",
       "      fill: #1967D2;\n",
       "      height: 32px;\n",
       "      padding: 0 0 0 0;\n",
       "      width: 32px;\n",
       "    }\n",
       "\n",
       "    .colab-df-convert:hover {\n",
       "      background-color: #E2EBFA;\n",
       "      box-shadow: 0px 1px 2px rgba(60, 64, 67, 0.3), 0px 1px 3px 1px rgba(60, 64, 67, 0.15);\n",
       "      fill: #174EA6;\n",
       "    }\n",
       "\n",
       "    .colab-df-buttons div {\n",
       "      margin-bottom: 4px;\n",
       "    }\n",
       "\n",
       "    [theme=dark] .colab-df-convert {\n",
       "      background-color: #3B4455;\n",
       "      fill: #D2E3FC;\n",
       "    }\n",
       "\n",
       "    [theme=dark] .colab-df-convert:hover {\n",
       "      background-color: #434B5C;\n",
       "      box-shadow: 0px 1px 3px 1px rgba(0, 0, 0, 0.15);\n",
       "      filter: drop-shadow(0px 1px 2px rgba(0, 0, 0, 0.3));\n",
       "      fill: #FFFFFF;\n",
       "    }\n",
       "  </style>\n",
       "\n",
       "    <script>\n",
       "      const buttonEl =\n",
       "        document.querySelector('#df-859ecdf5-11f8-4c75-8c81-5e16eff27218 button.colab-df-convert');\n",
       "      buttonEl.style.display =\n",
       "        google.colab.kernel.accessAllowed ? 'block' : 'none';\n",
       "\n",
       "      async function convertToInteractive(key) {\n",
       "        const element = document.querySelector('#df-859ecdf5-11f8-4c75-8c81-5e16eff27218');\n",
       "        const dataTable =\n",
       "          await google.colab.kernel.invokeFunction('convertToInteractive',\n",
       "                                                    [key], {});\n",
       "        if (!dataTable) return;\n",
       "\n",
       "        const docLinkHtml = 'Like what you see? Visit the ' +\n",
       "          '<a target=\"_blank\" href=https://colab.research.google.com/notebooks/data_table.ipynb>data table notebook</a>'\n",
       "          + ' to learn more about interactive tables.';\n",
       "        element.innerHTML = '';\n",
       "        dataTable['output_type'] = 'display_data';\n",
       "        await google.colab.output.renderOutput(dataTable, element);\n",
       "        const docLink = document.createElement('div');\n",
       "        docLink.innerHTML = docLinkHtml;\n",
       "        element.appendChild(docLink);\n",
       "      }\n",
       "    </script>\n",
       "  </div>\n",
       "\n",
       "\n",
       "<div id=\"df-d5410d07-f25e-4da7-9b73-f663989d27ad\">\n",
       "  <button class=\"colab-df-quickchart\" onclick=\"quickchart('df-d5410d07-f25e-4da7-9b73-f663989d27ad')\"\n",
       "            title=\"Suggest charts.\"\n",
       "            style=\"display:none;\">\n",
       "\n",
       "<svg xmlns=\"http://www.w3.org/2000/svg\" height=\"24px\"viewBox=\"0 0 24 24\"\n",
       "     width=\"24px\">\n",
       "    <g>\n",
       "        <path d=\"M19 3H5c-1.1 0-2 .9-2 2v14c0 1.1.9 2 2 2h14c1.1 0 2-.9 2-2V5c0-1.1-.9-2-2-2zM9 17H7v-7h2v7zm4 0h-2V7h2v10zm4 0h-2v-4h2v4z\"/>\n",
       "    </g>\n",
       "</svg>\n",
       "  </button>\n",
       "\n",
       "<style>\n",
       "  .colab-df-quickchart {\n",
       "      --bg-color: #E8F0FE;\n",
       "      --fill-color: #1967D2;\n",
       "      --hover-bg-color: #E2EBFA;\n",
       "      --hover-fill-color: #174EA6;\n",
       "      --disabled-fill-color: #AAA;\n",
       "      --disabled-bg-color: #DDD;\n",
       "  }\n",
       "\n",
       "  [theme=dark] .colab-df-quickchart {\n",
       "      --bg-color: #3B4455;\n",
       "      --fill-color: #D2E3FC;\n",
       "      --hover-bg-color: #434B5C;\n",
       "      --hover-fill-color: #FFFFFF;\n",
       "      --disabled-bg-color: #3B4455;\n",
       "      --disabled-fill-color: #666;\n",
       "  }\n",
       "\n",
       "  .colab-df-quickchart {\n",
       "    background-color: var(--bg-color);\n",
       "    border: none;\n",
       "    border-radius: 50%;\n",
       "    cursor: pointer;\n",
       "    display: none;\n",
       "    fill: var(--fill-color);\n",
       "    height: 32px;\n",
       "    padding: 0;\n",
       "    width: 32px;\n",
       "  }\n",
       "\n",
       "  .colab-df-quickchart:hover {\n",
       "    background-color: var(--hover-bg-color);\n",
       "    box-shadow: 0 1px 2px rgba(60, 64, 67, 0.3), 0 1px 3px 1px rgba(60, 64, 67, 0.15);\n",
       "    fill: var(--button-hover-fill-color);\n",
       "  }\n",
       "\n",
       "  .colab-df-quickchart-complete:disabled,\n",
       "  .colab-df-quickchart-complete:disabled:hover {\n",
       "    background-color: var(--disabled-bg-color);\n",
       "    fill: var(--disabled-fill-color);\n",
       "    box-shadow: none;\n",
       "  }\n",
       "\n",
       "  .colab-df-spinner {\n",
       "    border: 2px solid var(--fill-color);\n",
       "    border-color: transparent;\n",
       "    border-bottom-color: var(--fill-color);\n",
       "    animation:\n",
       "      spin 1s steps(1) infinite;\n",
       "  }\n",
       "\n",
       "  @keyframes spin {\n",
       "    0% {\n",
       "      border-color: transparent;\n",
       "      border-bottom-color: var(--fill-color);\n",
       "      border-left-color: var(--fill-color);\n",
       "    }\n",
       "    20% {\n",
       "      border-color: transparent;\n",
       "      border-left-color: var(--fill-color);\n",
       "      border-top-color: var(--fill-color);\n",
       "    }\n",
       "    30% {\n",
       "      border-color: transparent;\n",
       "      border-left-color: var(--fill-color);\n",
       "      border-top-color: var(--fill-color);\n",
       "      border-right-color: var(--fill-color);\n",
       "    }\n",
       "    40% {\n",
       "      border-color: transparent;\n",
       "      border-right-color: var(--fill-color);\n",
       "      border-top-color: var(--fill-color);\n",
       "    }\n",
       "    60% {\n",
       "      border-color: transparent;\n",
       "      border-right-color: var(--fill-color);\n",
       "    }\n",
       "    80% {\n",
       "      border-color: transparent;\n",
       "      border-right-color: var(--fill-color);\n",
       "      border-bottom-color: var(--fill-color);\n",
       "    }\n",
       "    90% {\n",
       "      border-color: transparent;\n",
       "      border-bottom-color: var(--fill-color);\n",
       "    }\n",
       "  }\n",
       "</style>\n",
       "\n",
       "  <script>\n",
       "    async function quickchart(key) {\n",
       "      const quickchartButtonEl =\n",
       "        document.querySelector('#' + key + ' button');\n",
       "      quickchartButtonEl.disabled = true;  // To prevent multiple clicks.\n",
       "      quickchartButtonEl.classList.add('colab-df-spinner');\n",
       "      try {\n",
       "        const charts = await google.colab.kernel.invokeFunction(\n",
       "            'suggestCharts', [key], {});\n",
       "      } catch (error) {\n",
       "        console.error('Error during call to suggestCharts:', error);\n",
       "      }\n",
       "      quickchartButtonEl.classList.remove('colab-df-spinner');\n",
       "      quickchartButtonEl.classList.add('colab-df-quickchart-complete');\n",
       "    }\n",
       "    (() => {\n",
       "      let quickchartButtonEl =\n",
       "        document.querySelector('#df-d5410d07-f25e-4da7-9b73-f663989d27ad button');\n",
       "      quickchartButtonEl.style.display =\n",
       "        google.colab.kernel.accessAllowed ? 'block' : 'none';\n",
       "    })();\n",
       "  </script>\n",
       "</div>\n",
       "    </div>\n",
       "  </div>\n"
      ],
      "text/plain": [
       "               open    close  open_predicted  close_predicted\n",
       "2021-06-09  2499.50  2491.40     2138.929443      2263.988770\n",
       "2021-06-10  2494.01  2521.60     2159.440918      2289.226807\n",
       "2021-06-11  2524.92  2513.93     2172.053955      2306.037354\n",
       "2021-06-12      NaN      NaN             NaN              NaN\n",
       "2021-06-13      NaN      NaN             NaN              NaN\n",
       "2021-06-14      NaN      NaN             NaN              NaN\n",
       "2021-06-15      NaN      NaN             NaN              NaN\n",
       "2021-06-16      NaN      NaN             NaN              NaN"
      ]
     },
     "execution_count": 27,
     "metadata": {},
     "output_type": "execute_result"
    }
   ],
   "source": [
    "gs_slic_data['2021-06-09\t':'2021-06-16']"
   ]
  },
  {
   "cell_type": "code",
   "execution_count": 28,
   "id": "452632e8",
   "metadata": {
    "execution": {
     "iopub.execute_input": "2021-11-29T13:51:22.464480Z",
     "iopub.status.busy": "2021-11-29T13:51:22.463554Z",
     "iopub.status.idle": "2021-11-29T13:51:22.465737Z",
     "shell.execute_reply": "2021-11-29T13:51:22.466157Z",
     "shell.execute_reply.started": "2021-11-29T13:49:20.324276Z"
    },
    "id": "452632e8",
    "papermill": {
     "duration": 0.151721,
     "end_time": "2021-11-29T13:51:22.466304",
     "exception": false,
     "start_time": "2021-11-29T13:51:22.314583",
     "status": "completed"
    },
    "tags": []
   },
   "outputs": [],
   "source": [
    "upcoming_prediction = pd.DataFrame(columns=['open','close'],index=gs_slic_data.index)\n",
    "upcoming_prediction.index=pd.to_datetime(upcoming_prediction.index)"
   ]
  },
  {
   "cell_type": "code",
   "execution_count": 29,
   "id": "c219f9fe",
   "metadata": {
    "colab": {
     "base_uri": "https://localhost:8080/"
    },
    "execution": {
     "iopub.execute_input": "2021-11-29T13:51:22.755255Z",
     "iopub.status.busy": "2021-11-29T13:51:22.754366Z",
     "iopub.status.idle": "2021-11-29T13:51:23.192659Z",
     "shell.execute_reply": "2021-11-29T13:51:23.191262Z",
     "shell.execute_reply.started": "2021-11-29T13:49:20.337962Z"
    },
    "id": "c219f9fe",
    "outputId": "bbc3a7ef-0801-47d0-9ac0-0cc283b9311a",
    "papermill": {
     "duration": 0.586524,
     "end_time": "2021-11-29T13:51:23.192863",
     "exception": false,
     "start_time": "2021-11-29T13:51:22.606339",
     "status": "completed"
    },
    "tags": []
   },
   "outputs": [
    {
     "name": "stdout",
     "output_type": "stream",
     "text": [
      "1/1 [==============================] - 0s 42ms/step\n",
      "1/1 [==============================] - 0s 42ms/step\n",
      "1/1 [==============================] - 0s 42ms/step\n",
      "1/1 [==============================] - 0s 38ms/step\n",
      "1/1 [==============================] - 0s 51ms/step\n",
      "1/1 [==============================] - 0s 54ms/step\n",
      "1/1 [==============================] - 0s 49ms/step\n",
      "1/1 [==============================] - 0s 38ms/step\n",
      "1/1 [==============================] - 0s 42ms/step\n",
      "1/1 [==============================] - 0s 38ms/step\n"
     ]
    }
   ],
   "source": [
    "curr_seq = test_seq[-1:]\n",
    "\n",
    "for i in range(-10,0):\n",
    "  up_pred = model.predict(curr_seq)\n",
    "  upcoming_prediction.iloc[i] = up_pred\n",
    "  curr_seq = np.append(curr_seq[0][1:],up_pred,axis=0)\n",
    "  curr_seq = curr_seq.reshape(test_seq[-1:].shape)\n"
   ]
  },
  {
   "cell_type": "code",
   "execution_count": 30,
   "id": "06dcba60",
   "metadata": {
    "execution": {
     "iopub.execute_input": "2021-11-29T13:51:23.639282Z",
     "iopub.status.busy": "2021-11-29T13:51:23.637529Z",
     "iopub.status.idle": "2021-11-29T13:51:23.639869Z",
     "shell.execute_reply": "2021-11-29T13:51:23.640303Z",
     "shell.execute_reply.started": "2021-11-29T13:49:20.727490Z"
    },
    "id": "06dcba60",
    "papermill": {
     "duration": 0.219046,
     "end_time": "2021-11-29T13:51:23.640455",
     "exception": false,
     "start_time": "2021-11-29T13:51:23.421409",
     "status": "completed"
    },
    "tags": []
   },
   "outputs": [],
   "source": [
    "upcoming_prediction[['open','close']] = MMS.inverse_transform(upcoming_prediction[['open','close']])"
   ]
  },
  {
   "cell_type": "code",
   "execution_count": 31,
   "id": "bdd20807",
   "metadata": {
    "colab": {
     "base_uri": "https://localhost:8080/",
     "height": 548
    },
    "execution": {
     "iopub.execute_input": "2021-11-29T13:51:23.943693Z",
     "iopub.status.busy": "2021-11-29T13:51:23.942573Z",
     "iopub.status.idle": "2021-11-29T13:51:24.197160Z",
     "shell.execute_reply": "2021-11-29T13:51:24.196409Z",
     "shell.execute_reply.started": "2021-11-29T13:49:20.735924Z"
    },
    "id": "bdd20807",
    "outputId": "7b19a8d9-4391-430c-bdce-c18ace0a6a5b",
    "papermill": {
     "duration": 0.418763,
     "end_time": "2021-11-29T13:51:24.197289",
     "exception": false,
     "start_time": "2021-11-29T13:51:23.778526",
     "status": "completed"
    },
    "tags": []
   },
   "outputs": [
    {
     "data": {
      "image/png": "[encoded data removed]",
      "text/plain": [
       "<Figure size 1000x500 with 1 Axes>"
      ]
     },
     "metadata": {},
     "output_type": "display_data"
    }
   ],
   "source": [
    "fg,ax=plt.subplots(figsize=(10,5))\n",
    "ax.plot(gs_slic_data.loc['2021-04-01':,'open'],label='Current Open Price')\n",
    "ax.plot(upcoming_prediction.loc['2021-04-01':,'open'],label='Upcoming Open Price')\n",
    "plt.setp(ax.xaxis.get_majorticklabels(), rotation=45)\n",
    "ax.set_xlabel('Date',size=15)\n",
    "ax.set_ylabel('Stock Price',size=15)\n",
    "ax.set_title('Upcoming Open price prediction',size=15)\n",
    "ax.legend()\n",
    "fg.show()"
   ]
  },
  {
   "cell_type": "code",
   "execution_count": 32,
   "id": "6cefc709",
   "metadata": {
    "colab": {
     "base_uri": "https://localhost:8080/",
     "height": 548
    },
    "execution": {
     "iopub.execute_input": "2021-11-29T13:51:24.505007Z",
     "iopub.status.busy": "2021-11-29T13:51:24.504069Z",
     "iopub.status.idle": "2021-11-29T13:51:24.751453Z",
     "shell.execute_reply": "2021-11-29T13:51:24.751904Z",
     "shell.execute_reply.started": "2021-11-29T13:49:21.029698Z"
    },
    "id": "6cefc709",
    "outputId": "88ce9c11-ac90-42b8-ed51-beca5ac7fb2f",
    "papermill": {
     "duration": 0.41601,
     "end_time": "2021-11-29T13:51:24.752112",
     "exception": false,
     "start_time": "2021-11-29T13:51:24.336102",
     "status": "completed"
    },
    "tags": []
   },
   "outputs": [
    {
     "data": {
      "image/png": "[encoded data removed]",
      "text/plain": [
       "<Figure size 1000x500 with 1 Axes>"
      ]
     },
     "metadata": {},
     "output_type": "display_data"
    }
   ],
   "source": [
    "fg,ax=plt.subplots(figsize=(10,5))\n",
    "ax.plot(gs_slic_data.loc['2021-04-01':,'close'],label='Current close Price')\n",
    "ax.plot(upcoming_prediction.loc['2021-04-01':,'close'],label='Upcoming close Price')\n",
    "plt.setp(ax.xaxis.get_majorticklabels(), rotation=45)\n",
    "ax.set_xlabel('Date',size=15)\n",
    "ax.set_ylabel('Stock Price',size=15)\n",
    "ax.set_title('Upcoming close price prediction',size=15)\n",
    "ax.legend()\n",
    "fg.show()"
   ]
  }
 ],
 "metadata": {
  "colab": {
   "provenance": []
  },
  "kernelspec": {
   "display_name": "Python 3 (ipykernel)",
   "language": "python",
   "name": "python3"
  },
  "language_info": {
   "codemirror_mode": {
    "name": "ipython",
    "version": 3
   },
   "file_extension": ".py",
   "mimetype": "text/x-python",
   "name": "python",
   "nbconvert_exporter": "python",
   "pygments_lexer": "ipython3",
   "version": "3.9.7"
  },
  "papermill": {
   "default_parameters": {},
   "duration": 71.502717,
   "end_time": "2021-11-29T13:51:28.321502",
   "environment_variables": {},
   "exception": null,
   "input_path": "__notebook__.ipynb",
   "output_path": "__notebook__.ipynb",
   "parameters": {},
   "start_time": "2021-11-29T13:50:16.818785",
   "version": "2.3.3"
  }
 },
 "nbformat": 4,
 "nbformat_minor": 5
}
